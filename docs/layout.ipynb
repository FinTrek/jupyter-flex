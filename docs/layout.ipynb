{
 "cells": [
  {
   "cell_type": "markdown",
   "metadata": {},
   "source": [
    "# Layouts\n",
    "\n",
    "In the [Getting Started](getting-started/) page we saw a couple of options to control the orientation of the different sections of the dashboards.\n",
    "\n",
    "This page explains all the options to control the layout of the dashboard."
   ]
  },
  {
   "cell_type": "markdown",
   "metadata": {},
   "source": [
    "## Orientation\n",
    "\n",
    "The default orientation of the dashboard is `columns`. This means that each section (level-2 markdown headers: `##`) will be shown as a column and the charts in each section will be shown as rows.\n",
    "\n",
    "The default is to use the oposite orientation between sections and charts but this can be overwritten, see [section parameters](#section-parameters), the defaults are:\n",
    "- If dashboard orientation is `columns` (default), then Section Orientation is `rows`\n",
    "- If dashboard orientation is `rows`, then Section Orientation is `columns`\n",
    "\n",
    "Let's start with this notebook:"
   ]
  },
  {
   "cell_type": "code",
   "execution_count": null,
   "metadata": {},
   "outputs": [],
   "source": [
    "## Column 1"
   ]
  },
  {
   "cell_type": "code",
   "execution_count": null,
   "metadata": {},
   "outputs": [],
   "source": [
    "### Single plot"
   ]
  },
  {
   "cell_type": "code",
   "execution_count": null,
   "metadata": {
    "tags": [
     "chart"
    ]
   },
   "outputs": [],
   "source": [
    "# code"
   ]
  },
  {
   "cell_type": "code",
   "execution_count": null,
   "metadata": {},
   "outputs": [],
   "source": [
    "## Column 2"
   ]
  },
  {
   "cell_type": "code",
   "execution_count": null,
   "metadata": {},
   "outputs": [],
   "source": [
    "### Sub Plot 1"
   ]
  },
  {
   "cell_type": "code",
   "execution_count": null,
   "metadata": {
    "tags": [
     "chart"
    ]
   },
   "outputs": [],
   "source": [
    "# code"
   ]
  },
  {
   "cell_type": "code",
   "execution_count": null,
   "metadata": {},
   "outputs": [],
   "source": [
    "### Sub Plot 2"
   ]
  },
  {
   "cell_type": "code",
   "execution_count": null,
   "metadata": {
    "tags": [
     "chart"
    ]
   },
   "outputs": [],
   "source": [
    "# code"
   ]
  },
  {
   "cell_type": "markdown",
   "metadata": {},
   "source": [
    "Using `voila` or `nbconvert` with the flex template will generate:\n",
    "\n",
    "![Jupyter-flex orientation columns](/assets/img/layouts/orientation-columns.png \"Orientation Columns\")"
   ]
  },
  {
   "cell_type": "markdown",
   "metadata": {},
   "source": [
    "### Global Parameters"
   ]
  },
  {
   "cell_type": "markdown",
   "metadata": {},
   "source": [
    "You can change the orientation of the layout using the `orientation = \"rows\"` parameter.\n",
    "\n",
    "To set this parameters just tag one code cell with `parameters`. It's usually a good idea to have this cell at the begining of the notebook, this is the same tag used by [papermill](https://github.com/nteract/papermill) so you can use it as part of you pipeline.\n",
    "\n",
    "For example adding the following cell as the first cell of the notebook."
   ]
  },
  {
   "cell_type": "code",
   "execution_count": null,
   "metadata": {
    "tags": [
     "parameters"
    ]
   },
   "outputs": [],
   "source": [
    "orientation = \"rows\""
   ]
  },
  {
   "cell_type": "markdown",
   "metadata": {},
   "source": [
    "Will generate:\n",
    "\n",
    "![Jupyter-flex orientation rows](/assets/img/layouts/orientation-rows.png \"Orientation Rows\")\n",
    "\n",
    "\n",
    "## Section parameters\n",
    "\n",
    "Each section default parameters can be overwritten by adding tags to the section cell (the one with a level-2 header `##`). For example in the last dashboard to make make the second row of the bottom section to also be divided by rows we add an `orientation={value}` tag like this:"
   ]
  },
  {
   "cell_type": "code",
   "execution_count": null,
   "metadata": {
    "tags": [
     "orientation=rows"
    ]
   },
   "outputs": [],
   "source": [
    "## Column 2"
   ]
  },
  {
   "cell_type": "markdown",
   "metadata": {},
   "source": [
    "Will generate:\n",
    "\n",
    "![Jupyter-flex orientation rows + rows](/assets/img/layouts/orientation-rows-rows.png \"Orientation Rows + Rows\")"
   ]
  },
  {
   "cell_type": "markdown",
   "metadata": {},
   "source": [
    "## Width and Height\n",
    "\n",
    "You might have noticed that by default all the sections and plots inside each section are divided equally. If there is 2 sections each section will get 50% of the space. If there is 3 plots in one section each will get 33% of the space.\n",
    "\n",
    "This can be controlled using the `size={value}` tag in sections and charts.\n",
    "\n",
    "For example take this notebook that focuses most of the dashboard space on the top chart."
   ]
  },
  {
   "cell_type": "code",
   "execution_count": null,
   "metadata": {
    "tags": [
     "parameters"
    ]
   },
   "outputs": [],
   "source": [
    "orientation = \"rows\""
   ]
  },
  {
   "cell_type": "code",
   "execution_count": null,
   "metadata": {
    "tags": [
     "size=650"
    ]
   },
   "outputs": [],
   "source": [
    "## Row 1"
   ]
  },
  {
   "cell_type": "code",
   "execution_count": null,
   "metadata": {},
   "outputs": [],
   "source": [
    "### Main plot"
   ]
  },
  {
   "cell_type": "code",
   "execution_count": null,
   "metadata": {
    "tags": [
     "chart"
    ]
   },
   "outputs": [],
   "source": [
    "# code"
   ]
  },
  {
   "cell_type": "code",
   "execution_count": null,
   "metadata": {
    "tags": [
     "size=350"
    ]
   },
   "outputs": [],
   "source": [
    "## Row 2"
   ]
  },
  {
   "cell_type": "code",
   "execution_count": null,
   "metadata": {},
   "outputs": [],
   "source": [
    "### Subplot 1"
   ]
  },
  {
   "cell_type": "code",
   "execution_count": null,
   "metadata": {
    "tags": [
     "chart"
    ]
   },
   "outputs": [],
   "source": [
    "# code"
   ]
  },
  {
   "cell_type": "code",
   "execution_count": null,
   "metadata": {},
   "outputs": [],
   "source": [
    "### Subplot 2"
   ]
  },
  {
   "cell_type": "code",
   "execution_count": null,
   "metadata": {
    "tags": [
     "chart"
    ]
   },
   "outputs": [],
   "source": [
    "# code"
   ]
  },
  {
   "cell_type": "markdown",
   "metadata": {},
   "source": [
    "![Jupyter-flex Focal Chart Top](/assets/img/layouts/focal-chart-top.png \"Focal Chart Top\")\n",
    "\n",
    "<div class=\"admonition tip\">\n",
    "    <p class=\"admonition-title\">What does the value of size mean?</p>\n",
    "    <p>The values for the <code>size</code> parameter are passed directly to the <code>flex-grow</code> and <code>flex-shrink</code> CSS properties. </p>\n",
    "    <p>A good default to its to make the sum of all sections sizes add to 1000 (or a simple round number), that way you can calculate the proportions easily.</p>\n",
    "</div>\n"
   ]
  },
  {
   "cell_type": "markdown",
   "metadata": {},
   "source": [
    "### Chart size\n",
    "\n",
    "In the same way you can change the proportions for the multiple charts in a single section using the `size` parameter as a tag in the chart header (level-3 markdown header: `###`).\n",
    "\n",
    "In the last example if we change this two cells:"
   ]
  },
  {
   "cell_type": "code",
   "execution_count": null,
   "metadata": {
    "tags": [
     "size=700"
    ]
   },
   "outputs": [],
   "source": [
    "### Subplot 1"
   ]
  },
  {
   "cell_type": "code",
   "execution_count": null,
   "metadata": {
    "tags": [
     "size=300"
    ]
   },
   "outputs": [],
   "source": [
    "### Subplot 2"
   ]
  },
  {
   "cell_type": "markdown",
   "metadata": {},
   "source": [
    "![Jupyter-flex Focal Chart Top](/assets/img/layouts/focal-chart-top-chart-size.png \"Focal Chart Top\")"
   ]
  },
  {
   "cell_type": "markdown",
   "metadata": {},
   "source": [
    "## Examples\n",
    "\n",
    "<div class=\"image-grid-row\">\n",
    "  <figure class=\"image-card\">\n",
    "    <a href=\"/examples/orientation-rows.html\">\n",
    "        <img src=\"/assets/img/layouts/orientation-rows.png\">\n",
    "    </a>\n",
    "    <figcaption>orientation-rows</figcaption>\n",
    "  </figure>\n",
    "  <figure class=\"image-card\">\n",
    "    <a href=\"/examples/orientation-columns.html\">\n",
    "        <img src=\"/assets/img/layouts/orientation-columns.png\">\n",
    "    </a>\n",
    "    <figcaption>orientation-columns</figcaption>\n",
    "  </figure>\n",
    "  <figure class=\"image-card\">\n",
    "    <a href=\"/examples/orientation-rows-rows.html\">\n",
    "        <img src=\"/assets/img/layouts/orientation-rows-rows.png\">\n",
    "    </a>\n",
    "    <figcaption>orientation-rows + rows.ipynb</figcaption>\n",
    "  </figure>\n",
    "</div>\n",
    "\n",
    "<div class=\"image-grid-row\">\n",
    "  <figure class=\"image-card\">\n",
    "    <a href=\"/examples/orientation-columns-columns.html\">\n",
    "        <img src=\"/assets/img/layouts/orientation-columns-columns.png\">\n",
    "    </a>\n",
    "    <figcaption>orientation-columns + columns</figcaption>\n",
    "  </figure>\n",
    "  <figure class=\"image-card\">\n",
    "    <a href=\"/examples/grid-2x2.html\">\n",
    "        <img src=\"/assets/img/layouts/grid-2x2.png\">\n",
    "    </a>\n",
    "    <figcaption>grid-2x2</figcaption>\n",
    "  </figure>\n",
    "  <figure class=\"image-card\">\n",
    "    <a href=\"/examples/grid-2x3.html\">\n",
    "        <img src=\"/assets/img/layouts/grid-2x3.png\">\n",
    "    </a>\n",
    "    <figcaption>grid-2x3</figcaption>\n",
    "  </figure>\n",
    "</div>\n",
    "\n",
    "<div class=\"image-grid-row\">\n",
    "  <figure class=\"image-card\">\n",
    "    <a href=\"/examples/focal-chart-top.html\">\n",
    "        <img src=\"/assets/img/layouts/focal-chart-top.png\">\n",
    "    </a>\n",
    "    <figcaption>focal-chart-top</figcaption>\n",
    "  </figure>\n",
    "  <figure class=\"image-card\">\n",
    "    <a href=\"/examples/focal-chart-top-chart-size.html\">\n",
    "        <img src=\"/assets/img/layouts/focal-chart-top-chart-size.png\">\n",
    "    </a>\n",
    "    <figcaption>focal-chart-top-chart-size</figcaption>\n",
    "  </figure>\n",
    "  <figure class=\"image-card\">\n",
    "  </figure>\n",
    "</div>"
   ]
  }
 ],
 "metadata": {
  "celltoolbar": "Tags",
  "kernelspec": {
   "display_name": "Python 3",
   "language": "python",
   "name": "python3"
  },
  "language_info": {
   "codemirror_mode": {
    "name": "ipython",
    "version": 3
   },
   "file_extension": ".py",
   "mimetype": "text/x-python",
   "name": "python",
   "nbconvert_exporter": "python",
   "pygments_lexer": "ipython3",
   "version": "3.8.0"
  }
 },
 "nbformat": 4,
 "nbformat_minor": 2
}
