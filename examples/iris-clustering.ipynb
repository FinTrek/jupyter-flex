{
 "cells": [
  {
   "cell_type": "code",
   "execution_count": null,
   "metadata": {
    "tags": [
     "parameters"
    ]
   },
   "outputs": [],
   "source": [
    "title = \"Iris K-Means Clustering\""
   ]
  },
  {
   "cell_type": "code",
   "execution_count": 1,
   "metadata": {},
   "outputs": [],
   "source": [
    "import numpy as np\n",
    "\n",
    "import bqplot\n",
    "import bqplot.pyplot as plt\n",
    "import ipywidgets as widgets\n",
    "\n",
    "from sklearn.cluster import KMeans\n",
    "from sklearn import datasets\n",
    "np.random.seed(5)"
   ]
  },
  {
   "cell_type": "markdown",
   "metadata": {
    "tags": [
     "sidebar"
    ]
   },
   "source": [
    "## Sidebar"
   ]
  },
  {
   "cell_type": "code",
   "execution_count": 2,
   "metadata": {},
   "outputs": [],
   "source": [
    "iris = datasets.load_iris()"
   ]
  },
  {
   "cell_type": "code",
   "execution_count": 3,
   "metadata": {},
   "outputs": [],
   "source": [
    "options = [(fname, i) for i, fname in enumerate(iris.feature_names)]"
   ]
  },
  {
   "cell_type": "code",
   "execution_count": 4,
   "metadata": {
    "tags": [
     "inputs"
    ]
   },
   "outputs": [
    {
     "data": {
      "application/vnd.jupyter.widget-view+json": {
       "model_id": "adededd7424e4f3b8604d7ef93bf8864",
       "version_major": 2,
       "version_minor": 0
      },
      "text/plain": [
       "VBox(children=(Dropdown(description='X Variable:', options=(('sepal length (cm)', 0), ('sepal width (cm)', 1),…"
      ]
     },
     "metadata": {},
     "output_type": "display_data"
    }
   ],
   "source": [
    "x_var = widgets.Dropdown(options=options, value=0, description='X Variable:',)\n",
    "y_var = widgets.Dropdown(options=options, value=1, description='Y Variable:',)\n",
    "cluster_count = widgets.IntText(value=3, description='Cluster count:', disabled=False)\n",
    "\n",
    "widgets.VBox([x_var, y_var, cluster_count])"
   ]
  },
  {
   "cell_type": "markdown",
   "metadata": {},
   "source": [
    "## Column"
   ]
  },
  {
   "cell_type": "markdown",
   "metadata": {},
   "source": [
    "### KMeans"
   ]
  },
  {
   "cell_type": "code",
   "execution_count": 5,
   "metadata": {},
   "outputs": [],
   "source": [
    "def fit_model():\n",
    "    X = iris.data[:, [x_var.value, y_var.value]]\n",
    "    y = iris.target\n",
    "    estimator = KMeans(n_clusters=cluster_count.value)\n",
    "    estimator.fit(X)\n",
    "    return X, estimator"
   ]
  },
  {
   "cell_type": "code",
   "execution_count": 6,
   "metadata": {},
   "outputs": [],
   "source": [
    "X, estimator = fit_model()"
   ]
  },
  {
   "cell_type": "code",
   "execution_count": 7,
   "metadata": {},
   "outputs": [],
   "source": [
    "def on_value_change(change):\n",
    "    global X, estimator\n",
    "    X, estimator = fit_model()\n",
    "    scatt.x, scatt.y, scatt.color = X[:, 0], X[:, 1], estimator.labels_\n",
    "\n",
    "\n",
    "x_var.observe(on_value_change, names='value')\n",
    "y_var.observe(on_value_change, names='value')\n",
    "cluster_count.observe(on_value_change, names='value')"
   ]
  },
  {
   "cell_type": "code",
   "execution_count": 8,
   "metadata": {
    "tags": [
     "chart"
    ]
   },
   "outputs": [
    {
     "data": {
      "application/vnd.jupyter.widget-view+json": {
       "model_id": "8895d282aa174f50b9b08f50d5f9a234",
       "version_major": 2,
       "version_minor": 0
      },
      "text/plain": [
       "Figure(axes=[Axis(label='sepal length (cm)', scale=LinearScale()), Axis(label='sepal width (cm)', orientation=…"
      ]
     },
     "metadata": {},
     "output_type": "display_data"
    }
   ],
   "source": [
    "x_sc = bqplot.LinearScale()\n",
    "y_sc = bqplot.LinearScale()\n",
    "c_sc = bqplot.ColorScale(colors=bqplot.colorschemes.CATEGORY10)\n",
    "\n",
    "scatt = bqplot.Scatter(x=X[:, 0], y=X[:, 1], color=estimator.labels_, scales={'x': x_sc, 'y': y_sc, 'color': c_sc})\n",
    "ax_x = bqplot.Axis(scale=x_sc, label=x_var.label)\n",
    "ax_y = bqplot.Axis(scale=y_sc, label=y_var.label, orientation='vertical')\n",
    "\n",
    "fig = bqplot.Figure(marks=[scatt], axes=[ax_x, ax_y])\n",
    "fig"
   ]
  },
  {
   "cell_type": "code",
   "execution_count": null,
   "metadata": {},
   "outputs": [],
   "source": []
  }
 ],
 "metadata": {
  "celltoolbar": "Tags",
  "kernelspec": {
   "display_name": "Python 3",
   "language": "python",
   "name": "python3"
  },
  "language_info": {
   "codemirror_mode": {
    "name": "ipython",
    "version": 3
   },
   "file_extension": ".py",
   "mimetype": "text/x-python",
   "name": "python",
   "nbconvert_exporter": "python",
   "pygments_lexer": "ipython3",
   "version": "3.8.0"
  }
 },
 "nbformat": 4,
 "nbformat_minor": 4
}
